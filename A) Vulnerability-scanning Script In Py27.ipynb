{
 "cells": [
  {
   "cell_type": "code",
   "execution_count": 4,
   "metadata": {},
   "outputs": [
    {
     "name": "stdout",
     "output_type": "stream",
     "text": [
      "[+] 192.168.0.106: 220-FileZilla Server 0.9.60 beta\r\n",
      "220-written by Tim Kosse (tim.kosse@filezilla-project.org)\r\n",
      "220 Please visit https://filezilla-project.org/\r\n",
      "\n",
      "[+] 192.168.0.106: 220-FileZilla Server 0.9.60 beta\r\n",
      "220-written by Tim Kosse (tim.kosse@filezilla-project.org)\r\n",
      "220 Please visit https://filezilla-project.org/\r\n",
      "\n"
     ]
    }
   ],
   "source": [
    "import socket\n",
    "def retBanner(ip, port):\n",
    "    try:\n",
    "        socket.setdefaulttimeout(2)\n",
    "        s = socket.socket()\n",
    "        s.connect((ip, port))\n",
    "        banner = s.recv(1024)\n",
    "        return banner\n",
    "    except:\n",
    "        return\n",
    "\n",
    "def main():\n",
    "    ip1 = \"192.168.0.106\"\n",
    "    ip2 = \"192.168.0.106\"\n",
    "    port = 21\n",
    "    banner1 = retBanner(ip1, port)\n",
    "    if banner1:\n",
    "        print \"[+] \" + ip1 + \": \" + banner1\n",
    "    banner2 = retBanner(ip2, port)\n",
    "    if banner2:\n",
    "        print \"[+] \" + ip2 + \": \" + banner2\n",
    "\n",
    "if __name__ == \"__main__\":\n",
    "\n",
    "    main()\n"
   ]
  },
  {
   "cell_type": "markdown",
   "metadata": {},
   "source": [
    "## Script to check banner against some known vulnerable programs"
   ]
  },
  {
   "cell_type": "code",
   "execution_count": 6,
   "metadata": {},
   "outputs": [
    {
     "name": "stdout",
     "output_type": "stream",
     "text": [
      "[+] 192.168.0.106: 220-FileZilla Server 0.9.60 beta\r\n",
      "220-written by Tim Kosse (tim.kosse@filezilla-project.org)\r\n",
      "220 Please visit https://filezilla-project.org/\r\n",
      "[-] FTP Server is not vulnerable.\n"
     ]
    }
   ],
   "source": [
    "import socket\n",
    "def retBanner(ip, port):\n",
    "    try:\n",
    "        socket.setdefaulttimeout(2)\n",
    "        s = socket.socket()\n",
    "        s.connect((ip, port))\n",
    "        banner = s.recv(1024)\n",
    "        return banner\n",
    "    except:\n",
    "        return\n",
    "\n",
    "def checkVulns(banner):\n",
    "    if \"FreeFloat Ftp Server (Version 1.00)\" in banner:\n",
    "        print \"[+] FreeFloat FTP Server is vulnerable.\"\n",
    "    elif \"3Com 3CDaemon FTP Server Version 2.0\" in banner:\n",
    "        print \"[+] 3CDaemon FTP Server is vulnerable.\"\n",
    "    elif \"Ability Server 2.34\" in banner:\n",
    "        print \"[+] Ability FTP Server is vulnerable.\"\n",
    "    elif \"Sami FTP Server 2.0.2\" in banner:\n",
    "        print \"[+] Sami FTP Server is vulnerable.\"\n",
    "    else:\n",
    "        print \"[-] FTP Server is not vulnerable.\"\n",
    "    return\n",
    "\n",
    "\n",
    "def main():\n",
    "    ip1 = \"192.168.95.148\"\n",
    "    ip2 = \"192.168.95.149\"\n",
    "    ip3 = \"192.168.0.106\"\n",
    "    port = 21\n",
    "    banner1 = retBanner(ip1, port)\n",
    "    if banner1:\n",
    "        print \"[+] \" + ip1 + \": \" + banner1.strip(\"\\n\")\n",
    "        checkVulns(banner1)\n",
    "    banner2 = retBanner(ip2, port)\n",
    "    if banner2:\n",
    "        print \"[+] \" + ip2 + \": \" + banner2.strip(\"\\n\")\n",
    "        checkVulns(banner2)\n",
    "    banner3 = retBanner(ip3, port)\n",
    "    if banner3:\n",
    "        print \"[+] \" + ip3 + \": \" + banner3.strip(\"\\n\")\n",
    "        checkVulns(banner3)\n",
    "\n",
    "\n",
    "if __name__ == \"__main__\":\n",
    "    main()"
   ]
  },
  {
   "cell_type": "markdown",
   "metadata": {},
   "source": [
    "# ITERATION"
   ]
  },
  {
   "cell_type": "markdown",
   "metadata": {},
   "source": [
    "## for-loop to iterate through multiple elements"
   ]
  },
  {
   "cell_type": "code",
   "execution_count": 2,
   "metadata": {},
   "outputs": [
    {
     "name": "stdout",
     "output_type": "stream",
     "text": [
      "192.168.95.1\n",
      "192.168.95.2\n",
      "192.168.95.3\n",
      "192.168.95.4\n",
      "192.168.95.5\n",
      "192.168.95.6\n",
      "192.168.95.7\n",
      "192.168.95.8\n",
      "192.168.95.9\n",
      "192.168.95.10\n",
      "192.168.95.11\n",
      "192.168.95.12\n",
      "192.168.95.13\n",
      "192.168.95.14\n",
      "192.168.95.15\n",
      "192.168.95.16\n",
      "192.168.95.17\n",
      "192.168.95.18\n",
      "192.168.95.19\n",
      "192.168.95.20\n",
      "192.168.95.21\n",
      "192.168.95.22\n",
      "192.168.95.23\n",
      "192.168.95.24\n"
     ]
    }
   ],
   "source": [
    "for x in range(1,25):\n",
    "    print \"192.168.95.\"+str(x)"
   ]
  },
  {
   "cell_type": "code",
   "execution_count": 4,
   "metadata": {},
   "outputs": [
    {
     "name": "stdout",
     "output_type": "stream",
     "text": [
      "21\n",
      "22\n",
      "25\n",
      "80\n",
      "110\n"
     ]
    }
   ],
   "source": [
    "portList = [21,22,25,80,110]\n",
    "\n",
    "for port in portList:\n",
    "    print port"
   ]
  },
  {
   "cell_type": "code",
   "execution_count": 5,
   "metadata": {},
   "outputs": [
    {
     "name": "stdout",
     "output_type": "stream",
     "text": [
      "[+] Checking 192.168.95.1:21\n",
      "[+] Checking 192.168.95.1:22\n",
      "[+] Checking 192.168.95.1:25\n",
      "[+] Checking 192.168.95.1:80\n",
      "[+] Checking 192.168.95.1:110\n",
      "[+] Checking 192.168.95.2:21\n",
      "[+] Checking 192.168.95.2:22\n",
      "[+] Checking 192.168.95.2:25\n",
      "[+] Checking 192.168.95.2:80\n",
      "[+] Checking 192.168.95.2:110\n",
      "[+] Checking 192.168.95.3:21\n",
      "[+] Checking 192.168.95.3:22\n",
      "[+] Checking 192.168.95.3:25\n",
      "[+] Checking 192.168.95.3:80\n",
      "[+] Checking 192.168.95.3:110\n",
      "[+] Checking 192.168.95.4:21\n",
      "[+] Checking 192.168.95.4:22\n",
      "[+] Checking 192.168.95.4:25\n",
      "[+] Checking 192.168.95.4:80\n",
      "[+] Checking 192.168.95.4:110\n",
      "[+] Checking 192.168.95.5:21\n",
      "[+] Checking 192.168.95.5:22\n",
      "[+] Checking 192.168.95.5:25\n",
      "[+] Checking 192.168.95.5:80\n",
      "[+] Checking 192.168.95.5:110\n",
      "[+] Checking 192.168.95.6:21\n",
      "[+] Checking 192.168.95.6:22\n",
      "[+] Checking 192.168.95.6:25\n",
      "[+] Checking 192.168.95.6:80\n",
      "[+] Checking 192.168.95.6:110\n",
      "[+] Checking 192.168.95.7:21\n",
      "[+] Checking 192.168.95.7:22\n",
      "[+] Checking 192.168.95.7:25\n",
      "[+] Checking 192.168.95.7:80\n",
      "[+] Checking 192.168.95.7:110\n",
      "[+] Checking 192.168.95.8:21\n",
      "[+] Checking 192.168.95.8:22\n",
      "[+] Checking 192.168.95.8:25\n",
      "[+] Checking 192.168.95.8:80\n",
      "[+] Checking 192.168.95.8:110\n",
      "[+] Checking 192.168.95.9:21\n",
      "[+] Checking 192.168.95.9:22\n",
      "[+] Checking 192.168.95.9:25\n",
      "[+] Checking 192.168.95.9:80\n",
      "[+] Checking 192.168.95.9:110\n",
      "[+] Checking 192.168.95.10:21\n",
      "[+] Checking 192.168.95.10:22\n",
      "[+] Checking 192.168.95.10:25\n",
      "[+] Checking 192.168.95.10:80\n",
      "[+] Checking 192.168.95.10:110\n",
      "[+] Checking 192.168.95.11:21\n",
      "[+] Checking 192.168.95.11:22\n",
      "[+] Checking 192.168.95.11:25\n",
      "[+] Checking 192.168.95.11:80\n",
      "[+] Checking 192.168.95.11:110\n",
      "[+] Checking 192.168.95.12:21\n",
      "[+] Checking 192.168.95.12:22\n",
      "[+] Checking 192.168.95.12:25\n",
      "[+] Checking 192.168.95.12:80\n",
      "[+] Checking 192.168.95.12:110\n",
      "[+] Checking 192.168.95.13:21\n",
      "[+] Checking 192.168.95.13:22\n",
      "[+] Checking 192.168.95.13:25\n",
      "[+] Checking 192.168.95.13:80\n",
      "[+] Checking 192.168.95.13:110\n",
      "[+] Checking 192.168.95.14:21\n",
      "[+] Checking 192.168.95.14:22\n",
      "[+] Checking 192.168.95.14:25\n",
      "[+] Checking 192.168.95.14:80\n",
      "[+] Checking 192.168.95.14:110\n",
      "[+] Checking 192.168.95.15:21\n",
      "[+] Checking 192.168.95.15:22\n",
      "[+] Checking 192.168.95.15:25\n",
      "[+] Checking 192.168.95.15:80\n",
      "[+] Checking 192.168.95.15:110\n",
      "[+] Checking 192.168.95.16:21\n",
      "[+] Checking 192.168.95.16:22\n",
      "[+] Checking 192.168.95.16:25\n",
      "[+] Checking 192.168.95.16:80\n",
      "[+] Checking 192.168.95.16:110\n",
      "[+] Checking 192.168.95.17:21\n",
      "[+] Checking 192.168.95.17:22\n",
      "[+] Checking 192.168.95.17:25\n",
      "[+] Checking 192.168.95.17:80\n",
      "[+] Checking 192.168.95.17:110\n",
      "[+] Checking 192.168.95.18:21\n",
      "[+] Checking 192.168.95.18:22\n",
      "[+] Checking 192.168.95.18:25\n",
      "[+] Checking 192.168.95.18:80\n",
      "[+] Checking 192.168.95.18:110\n",
      "[+] Checking 192.168.95.19:21\n",
      "[+] Checking 192.168.95.19:22\n",
      "[+] Checking 192.168.95.19:25\n",
      "[+] Checking 192.168.95.19:80\n",
      "[+] Checking 192.168.95.19:110\n",
      "[+] Checking 192.168.95.20:21\n",
      "[+] Checking 192.168.95.20:22\n",
      "[+] Checking 192.168.95.20:25\n",
      "[+] Checking 192.168.95.20:80\n",
      "[+] Checking 192.168.95.20:110\n",
      "[+] Checking 192.168.95.21:21\n",
      "[+] Checking 192.168.95.21:22\n",
      "[+] Checking 192.168.95.21:25\n",
      "[+] Checking 192.168.95.21:80\n",
      "[+] Checking 192.168.95.21:110\n",
      "[+] Checking 192.168.95.22:21\n",
      "[+] Checking 192.168.95.22:22\n",
      "[+] Checking 192.168.95.22:25\n",
      "[+] Checking 192.168.95.22:80\n",
      "[+] Checking 192.168.95.22:110\n",
      "[+] Checking 192.168.95.23:21\n",
      "[+] Checking 192.168.95.23:22\n",
      "[+] Checking 192.168.95.23:25\n",
      "[+] Checking 192.168.95.23:80\n",
      "[+] Checking 192.168.95.23:110\n",
      "[+] Checking 192.168.95.24:21\n",
      "[+] Checking 192.168.95.24:22\n",
      "[+] Checking 192.168.95.24:25\n",
      "[+] Checking 192.168.95.24:80\n",
      "[+] Checking 192.168.95.24:110\n"
     ]
    }
   ],
   "source": [
    "for x in range(1,25):\n",
    "    for port in portList:\n",
    "        print \"[+] Checking 192.168.95.\"\\\n",
    "        +str(x)+\":\"+str(port)"
   ]
  },
  {
   "cell_type": "markdown",
   "metadata": {},
   "source": [
    "# FILE I/O"
   ]
  },
  {
   "cell_type": "code",
   "execution_count": 25,
   "metadata": {},
   "outputs": [],
   "source": [
    "def checkVulns(banner):\n",
    "    f = open(\"vuln_banners.txt\",\"r\")\n",
    "    for line in f.readlines():\n",
    "        if line.strip(\"\\n\") in banner:\n",
    "            print \"[+] Server is vulnerable: \"+banner.strip(\"\\n\")"
   ]
  },
  {
   "cell_type": "markdown",
   "metadata": {},
   "source": [
    "# SYS MODULE"
   ]
  },
  {
   "cell_type": "markdown",
   "metadata": {},
   "source": [
    "## pass the name of a text file as a command line argument"
   ]
  },
  {
   "cell_type": "code",
   "execution_count": 27,
   "metadata": {},
   "outputs": [
    {
     "data": {
      "text/plain": [
       "3"
      ]
     },
     "execution_count": 27,
     "metadata": {},
     "output_type": "execute_result"
    }
   ],
   "source": [
    "import sys\n",
    "len(sys.argv)"
   ]
  },
  {
   "cell_type": "code",
   "execution_count": 6,
   "metadata": {},
   "outputs": [
    {
     "name": "stdout",
     "output_type": "stream",
     "text": [
      "[+] Reading Vulnerabilities From: C:\\Users\\Taymour\\AppData\\Roaming\\jupyter\\runtime\\kernel-f890bac7-f305-4468-8e88-7177fe0f9750.json\n"
     ]
    }
   ],
   "source": [
    "import sys\n",
    "if len(sys.argv)==3:\n",
    "    filename = sys.argv[2]\n",
    "    print \"[+] Reading Vulnerabilities From: \"+filename"
   ]
  },
  {
   "cell_type": "markdown",
   "metadata": {},
   "source": [
    "# OS MODULE"
   ]
  },
  {
   "cell_type": "code",
   "execution_count": 10,
   "metadata": {},
   "outputs": [
    {
     "name": "stdout",
     "output_type": "stream",
     "text": [
      "[-] -f does not exist.\n",
      "[-] -f access denied.\n",
      "[+] Reading Vulnerabilities From: -f\n"
     ]
    }
   ],
   "source": [
    "import sys\n",
    "import os\n",
    "\n",
    "if len(sys.argv) == 3:\n",
    "    filename = sys.argv[1]\n",
    "    if not os.path.isfile(filename):\n",
    "        print \"[-] \" + filename + \" does not exist.\"\n",
    "        exit(0)\n",
    "    if not os.access(filename, os.R_OK):\n",
    "        print \"[-] \" + filename + \" access denied.\"\n",
    "        exit(0)\n",
    "        print \"[+] Reading Vulnerabilities From: \" + filename"
   ]
  },
  {
   "cell_type": "code",
   "execution_count": 1,
   "metadata": {},
   "outputs": [
    {
     "name": "stdout",
     "output_type": "stream",
     "text": [
      "[+] 192.168.0.106: 220-FileZilla Server 0.9.60 beta\r\n",
      "220-written by Tim Kosse (tim.kosse@filezilla-project.org)\r\n",
      "220 Please visit https://filezilla-project.org/\r\n",
      "\n"
     ]
    }
   ],
   "source": [
    "import socket\n",
    "import os\n",
    "import sys\n",
    "\n",
    "def retBanner(ip, port):\n",
    "    try:\n",
    "        socket.setdefaulttimeout(2)\n",
    "        s = socket.socket()\n",
    "        s.connect((ip, port))\n",
    "        banner = s.recv(1024)\n",
    "        return banner\n",
    "    except:\n",
    "        return\n",
    "\n",
    "def checkVulns(banner, filename):\n",
    "    f = open(filename, \"r\")\n",
    "    for line in f.readlines():\n",
    "        if line.strip(\"\\n\") in banner:\n",
    "            print \"[+] Server is vulnerable: \" +\\\n",
    "                banner.strip(\"\\n\")\n",
    "\n",
    "def main():\n",
    "    if len(sys.argv) == 3:\n",
    "        filename = sys.argv[2]\n",
    "        if not os.path.isfile(filename):\n",
    "            print \"[-] \" + filename +\\\n",
    "            \" does not exist.\"\n",
    "            exit(0)\n",
    "        if not os.access(filename, os.R_OK):\n",
    "            print \"[-] \" + filename +\\\n",
    "            \" access denied.\"\n",
    "            exit(0)\n",
    "    else:\n",
    "        print \"[-] Usage: \" + str(sys.argv[0]) +\\\n",
    "            \" <vuln filename>\"\n",
    "        exit(0)\n",
    "    portList = [21,22,25,80,110,443]\n",
    "    for x in range(105, 108):\n",
    "        ip = \"192.168.0.\" + str(x)\n",
    "        for port in portList:\n",
    "            banner = retBanner(ip, port)\n",
    "            if banner:\n",
    "                print \"[+] \" + ip + \": \" + banner\n",
    "                checkVulns(banner, filename)\n",
    "\n",
    "if __name__ == \"__main__\":\n",
    "    main()"
   ]
  }
 ],
 "metadata": {
  "kernelspec": {
   "display_name": "Python 2",
   "language": "python",
   "name": "python2"
  },
  "language_info": {
   "codemirror_mode": {
    "name": "ipython",
    "version": 2
   },
   "file_extension": ".py",
   "mimetype": "text/x-python",
   "name": "python",
   "nbconvert_exporter": "python",
   "pygments_lexer": "ipython2",
   "version": "2.7.15"
  }
 },
 "nbformat": 4,
 "nbformat_minor": 2
}
