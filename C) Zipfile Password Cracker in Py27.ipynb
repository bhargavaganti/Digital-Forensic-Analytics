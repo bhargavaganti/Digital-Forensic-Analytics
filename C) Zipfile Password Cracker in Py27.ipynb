{
 "cells": [
  {
   "cell_type": "code",
   "execution_count": 5,
   "metadata": {},
   "outputs": [
    {
     "name": "stdout",
     "output_type": "stream",
     "text": [
      "$2b$12$IMbrVblScpe3hJugYKpzveXkHkT7JHm8cjV0W0OdMPSjXrVSZvQJy\n"
     ]
    }
   ],
   "source": [
    "import bcrypt\n",
    "password = \"passit\" #passit is the word to encrypt\n",
    "passw = bcrypt.hashpw(password, bcrypt.gensalt())\n",
    "print(passw)"
   ]
  },
  {
   "cell_type": "code",
   "execution_count": 6,
   "metadata": {},
   "outputs": [
    {
     "name": "stdout",
     "output_type": "stream",
     "text": [
      "It Matches!\n"
     ]
    }
   ],
   "source": [
    "import bcrypt\n",
    "password = b\"super secret password\"\n",
    "# Hash a password for the first time, with a randomly-generated salt\n",
    "hashed = bcrypt.hashpw(password, bcrypt.gensalt())\n",
    "# Check that a unhashed password matches one that has previously been\n",
    "#   hashed\n",
    "if bcrypt.hashpw(password, hashed) == hashed:\n",
    "    print(\"It Matches!\")\n",
    "else:\n",
    "    print(\"It Does not Match :(\")"
   ]
  },
  {
   "cell_type": "code",
   "execution_count": 7,
   "metadata": {},
   "outputs": [
    {
     "data": {
      "text/plain": [
       "'$2b$12$rJs2ZSWMwccg0iE/Vmrv3.WXoxFCFriK8iPqqR9zAGkPRzXnSLs0C'"
      ]
     },
     "execution_count": 7,
     "metadata": {},
     "output_type": "execute_result"
    }
   ],
   "source": [
    "hashed"
   ]
  },
  {
   "cell_type": "code",
   "execution_count": 12,
   "metadata": {},
   "outputs": [],
   "source": [
    "import zipfile\n",
    "zFile = zipfile.ZipFile(\"C:/Users/Taymour/Violent Python/Untitled Folder.zip\")\n",
    "zFile.extractall(pwd=\"secret\")"
   ]
  },
  {
   "cell_type": "code",
   "execution_count": 16,
   "metadata": {},
   "outputs": [
    {
     "name": "stdout",
     "output_type": "stream",
     "text": [
      "('Bad password for file', <zipfile.ZipInfo object at 0x0000000003C28108>)\n"
     ]
    }
   ],
   "source": [
    "zFile = zipfile.ZipFile(\"C:/Users/Taymour/Violent Python/Untitled Folder.zip\")\n",
    "try:\n",
    "    zFile.extractall(pwd=\"oranges\")\n",
    "except Exception, e:\n",
    "    print e"
   ]
  },
  {
   "cell_type": "code",
   "execution_count": 2,
   "metadata": {},
   "outputs": [],
   "source": [
    "zFile = zipfile.ZipFile(\"C:/Users/Taymour/Violent Python/Untitled Folder.zip\")\n",
    "passFile = open(\"C:/Users/Taymour/Violent Python/dictionary.txt\")\n",
    "\n",
    "for line in passFile.readlines():\n",
    "    password = line.strip(\"\\n\")\n",
    "try:\n",
    "    zFile.extractall(pwd=password)\n",
    "    print \"[+] Password = \" + password + \"\\n\"\n",
    "    exit(0)\n",
    "except Exception, e:\n",
    "    pass"
   ]
  },
  {
   "cell_type": "code",
   "execution_count": 3,
   "metadata": {},
   "outputs": [],
   "source": [
    "zFile = zipfile.ZipFile(\"C:/Users/Taymour/Violent Python/Untitled Folder.zip\")\n",
    "passFile = open(\"C:/Users/Taymour/Violent Python/dictionary.txt\")\n",
    "\n",
    "for line in passFile.readlines():\n",
    "    password = line.strip(\"\\n\")\n",
    "try:\n",
    "    zFile.extractall(pwd=password)\n",
    "    print \"[+] Password = \" +password+ \"\\n\"\n",
    "    exit(0)\n",
    "except Exception, e:\n",
    "    pass"
   ]
  },
  {
   "cell_type": "code",
   "execution_count": 27,
   "metadata": {},
   "outputs": [
    {
     "name": "stdout",
     "output_type": "stream",
     "text": [
      "[+] Password = secret\n",
      "\n"
     ]
    }
   ],
   "source": [
    "def extractFile(zFile, password):\n",
    "    try:\n",
    "        zFile.extractall(pwd=password)\n",
    "        return password\n",
    "    except:\n",
    "        return\n",
    "\n",
    "\n",
    "def main():\n",
    "    zFile = zipfile.ZipFile(\"C:/Users/Taymour/Violent Python/Untitled Folder.zip\")\n",
    "    passFile = open(\"C:/Users/Taymour/Violent Python/dictionary.txt\")\n",
    "    for line in passFile.readlines():\n",
    "        password = line.strip(\"\\n\")\n",
    "        guess = extractFile(zFile, password)\n",
    "        if guess:\n",
    "            print \"[+] Password = \" + password + \"\\n\"\n",
    "            exit(0)\n",
    "if __name__ == \"__main__\":\n",
    "    main()"
   ]
  },
  {
   "cell_type": "markdown",
   "metadata": {},
   "source": [
    "## Threads of execution to allow simultaneous testing of multiple passwords. "
   ]
  },
  {
   "cell_type": "code",
   "execution_count": 5,
   "metadata": {},
   "outputs": [],
   "source": [
    "from threading import Thread\n",
    "def extractFile(zFile, password):\n",
    "    try:\n",
    "        zFile.extractall(pwd=password)\n",
    "        print \"[+] Found password \" + password + \"\\n\"\n",
    "    except:\n",
    "        pass\n",
    "def main():\n",
    "    zFile = zipfile.ZipFile(\"C:/Users/Taymour/Violent Python/Untitled Folder.zip\")\n",
    "    passFile = open(\"C:/Users/Taymour/Violent Python/dictionary.txt\")\n",
    "    for line in passFile.readlines():\n",
    "        password = line.strip(\"\\n\")\n",
    "        t = Thread(target=extractFile, args=(zFile, password))\n",
    "        t.start()\n",
    "\n",
    "if __name__ == \"__main__\":\n",
    "    main()"
   ]
  },
  {
   "cell_type": "markdown",
   "metadata": {},
   "source": [
    "## Allow the user to specify the name of the zip file to crack and the name of the dictionary file."
   ]
  },
  {
   "cell_type": "code",
   "execution_count": 8,
   "metadata": {},
   "outputs": [
    {
     "name": "stdout",
     "output_type": "stream",
     "text": [
      "usage%prog -f <zipfile> -d <dictionary>\n"
     ]
    },
    {
     "ename": "UnboundLocalError",
     "evalue": "local variable 'zname' referenced before assignment",
     "output_type": "error",
     "traceback": [
      "\u001b[1;31m\u001b[0m",
      "\u001b[1;31mUnboundLocalError\u001b[0mTraceback (most recent call last)",
      "\u001b[1;32m<ipython-input-8-fd607b5aad13>\u001b[0m in \u001b[0;36m<module>\u001b[1;34m()\u001b[0m\n\u001b[0;32m     28\u001b[0m \u001b[1;33m\u001b[0m\u001b[0m\n\u001b[0;32m     29\u001b[0m \u001b[1;32mif\u001b[0m \u001b[0m__name__\u001b[0m \u001b[1;33m==\u001b[0m \u001b[1;34m\"__main__\"\u001b[0m\u001b[1;33m:\u001b[0m\u001b[1;33m\u001b[0m\u001b[0m\n\u001b[1;32m---> 30\u001b[1;33m     \u001b[0mmain\u001b[0m\u001b[1;33m(\u001b[0m\u001b[1;33m)\u001b[0m\u001b[1;33m\u001b[0m\u001b[0m\n\u001b[0m",
      "\u001b[1;32m<ipython-input-8-fd607b5aad13>\u001b[0m in \u001b[0;36mmain\u001b[1;34m()\u001b[0m\n\u001b[0;32m     20\u001b[0m         \u001b[0mzname\u001b[0m \u001b[1;33m=\u001b[0m \u001b[0moptions\u001b[0m\u001b[1;33m.\u001b[0m\u001b[0mzname\u001b[0m\u001b[1;33m\u001b[0m\u001b[0m\n\u001b[0;32m     21\u001b[0m         \u001b[0mdname\u001b[0m \u001b[1;33m=\u001b[0m \u001b[0moptions\u001b[0m\u001b[1;33m.\u001b[0m\u001b[0mdname\u001b[0m\u001b[1;33m\u001b[0m\u001b[0m\n\u001b[1;32m---> 22\u001b[1;33m     \u001b[0mzFile\u001b[0m \u001b[1;33m=\u001b[0m \u001b[0mzipfile\u001b[0m\u001b[1;33m.\u001b[0m\u001b[0mZipFile\u001b[0m\u001b[1;33m(\u001b[0m\u001b[0mzname\u001b[0m\u001b[1;33m)\u001b[0m\u001b[1;33m\u001b[0m\u001b[0m\n\u001b[0m\u001b[0;32m     23\u001b[0m     \u001b[0mpassFile\u001b[0m \u001b[1;33m=\u001b[0m \u001b[0mopen\u001b[0m\u001b[1;33m(\u001b[0m\u001b[0mdname\u001b[0m\u001b[1;33m)\u001b[0m\u001b[1;33m\u001b[0m\u001b[0m\n\u001b[0;32m     24\u001b[0m     \u001b[1;32mfor\u001b[0m \u001b[0mline\u001b[0m \u001b[1;32min\u001b[0m \u001b[0mpassFile\u001b[0m\u001b[1;33m.\u001b[0m\u001b[0mreadlines\u001b[0m\u001b[1;33m(\u001b[0m\u001b[1;33m)\u001b[0m\u001b[1;33m:\u001b[0m\u001b[1;33m\u001b[0m\u001b[0m\n",
      "\u001b[1;31mUnboundLocalError\u001b[0m: local variable 'zname' referenced before assignment"
     ]
    },
    {
     "name": "stdout",
     "output_type": "stream",
     "text": [
      "[+] Found password secret\n",
      "\n"
     ]
    }
   ],
   "source": [
    "import zipfile\n",
    "import optparse\n",
    "from threading import Thread\n",
    "\n",
    "def extractFile(zFile, password):\n",
    "    try:\n",
    "        zFile.extractall(pwd=password)\n",
    "        print \"[+] Found password \" + password + \"\\n\"\n",
    "    except:\n",
    "        pass\n",
    "def main():\n",
    "    parser = optparse.OptionParser(\"usage%prog \"+\\\n",
    "                                   \"-f <zipfile> -d <dictionary>\")\n",
    "    parser.add_option(\"-f\", dest=\"zname\", type=\"string\",\\\n",
    "                      help=\"specify zip file\")\n",
    "    parser.add_option(\"-d\", dest=\"dname\", type=\"string\",\\\n",
    "                      help=\"specify dictionary file\")\n",
    "    (options, args) = parser.parse_args()\n",
    "    if (options.zname == None) | (options.dname == None):\n",
    "        print parser.usage\n",
    "        exit(0)\n",
    "    else:\n",
    "        zname = options.zname\n",
    "        dname = options.dname\n",
    "    zFile = zipfile.ZipFile(zname)\n",
    "    passFile = open(dname)\n",
    "    for line in passFile.readlines():\n",
    "        password = line.strip(\"\\n\")\n",
    "        t = Thread(target=extractFile, args=(zFile, password))\n",
    "        t.start()\n",
    "\n",
    "if __name__ == \"__main__\":\n",
    "    main()"
   ]
  }
 ],
 "metadata": {
  "kernelspec": {
   "display_name": "Python 2",
   "language": "python",
   "name": "python2"
  },
  "language_info": {
   "codemirror_mode": {
    "name": "ipython",
    "version": 2
   },
   "file_extension": ".py",
   "mimetype": "text/x-python",
   "name": "python",
   "nbconvert_exporter": "python",
   "pygments_lexer": "ipython2",
   "version": "2.7.15"
  }
 },
 "nbformat": 4,
 "nbformat_minor": 2
}
