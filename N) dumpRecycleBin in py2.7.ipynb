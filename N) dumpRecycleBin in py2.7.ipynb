{
 "cells": [
  {
   "cell_type": "code",
   "execution_count": 8,
   "metadata": {},
   "outputs": [
    {
     "name": "stdout",
     "output_type": "stream",
     "text": [
      "\n",
      "[*] Listing Files For User: Taymour\n",
      "[+] Found File: $IS02RIY.avi\n",
      "[+] Found File: $RS02RIY.avi\n",
      "[+] Found File: desktop.ini\n"
     ]
    }
   ],
   "source": [
    "import os\n",
    "import optparse\n",
    "from _winreg import *\n",
    "\n",
    "def sid2user(sid):\n",
    "    try:\n",
    "        key = OpenKey(HKEY_LOCAL_MACHINE,\n",
    "                      \"SOFTWARE\\Microsoft\\Windows NT\\CurrentVersion\\ProfileList\"\n",
    "                      + '\\\\' + sid)\n",
    "        (value, type) = QueryValueEx(key, 'ProfileImagePath')\n",
    "        user = value.split('\\\\')[-1]\n",
    "        return user\n",
    "    except:\n",
    "        return sid\n",
    "\n",
    "def returnDir():\n",
    "    dirs=['C:\\\\Recycler\\\\','C:\\\\Recycled\\\\','C:\\\\$Recycle.Bin\\\\']\n",
    "    for recycleDir in dirs:\n",
    "        if os.path.isdir(recycleDir):\n",
    "            return recycleDir\n",
    "    return None\n",
    "\n",
    "def findRecycled(recycleDir):\n",
    "    dirList = os.listdir(recycleDir)\n",
    "    for sid in dirList:\n",
    "        files = os.listdir(recycleDir + sid)\n",
    "        user = sid2user(sid)\n",
    "        print '\\n[*] Listing Files For User: ' + str(user)\n",
    "        for file in files:\n",
    "            print '[+] Found File: ' + str(file)\n",
    "\n",
    "def main():\n",
    "    recycledDir = returnDir()\n",
    "    findRecycled(recycledDir)\n",
    "\n",
    "if __name__ == '__main__':\n",
    "    main()"
   ]
  }
 ],
 "metadata": {
  "kernelspec": {
   "display_name": "Python [conda env:py27]",
   "language": "python",
   "name": "conda-env-py27-py"
  },
  "language_info": {
   "codemirror_mode": {
    "name": "ipython",
    "version": 2
   },
   "file_extension": ".py",
   "mimetype": "text/x-python",
   "name": "python",
   "nbconvert_exporter": "python",
   "pygments_lexer": "ipython2",
   "version": "2.7.15"
  }
 },
 "nbformat": 4,
 "nbformat_minor": 2
}
